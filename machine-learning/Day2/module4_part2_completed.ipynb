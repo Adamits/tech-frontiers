{
 "cells": [
  {
   "cell_type": "code",
   "execution_count": null,
   "metadata": {},
   "outputs": [],
   "source": [
    "'''\n",
    "First, we import all required packages.\n",
    "'''\n",
    "import numpy as np\n",
    "from hmmlearn import hmm\n",
    "np.random.seed(11)"
   ]
  },
  {
   "cell_type": "code",
   "execution_count": null,
   "metadata": {},
   "outputs": [],
   "source": [
    "'''\n",
    "Next, we read in the unlabeled data from a CSV file. Each line contains one observation sequence.\n",
    "'''\n",
    "# TODO[1]: Put the correct name of the file containing the data for module 4 here\n",
    "FILENAME = 'module4_data.csv'\n",
    "label2int = {'swimming': 1, 'movie': 2, 'hiking': 3, 'reading': 4}\n",
    "\n",
    "data = []\n",
    "for line in open(FILENAME):\n",
    "    data.append([[label2int[x]] for x in line.strip().split(',')])\n",
    "data = np.array(data)\n",
    "print(data)"
   ]
  },
  {
   "cell_type": "code",
   "execution_count": null,
   "metadata": {},
   "outputs": [],
   "source": [
    "'''\n",
    "Now, we define our HMM, which we will then fit to our data.\n",
    "Documentation:\n",
    "https://hmmlearn.readthedocs.io/en/latest/api.html#hmmlearn-hmm \n",
    "'''\n",
    "mymodel = hmmlearn.base._BaseHMM(n_components=2, n_iter=100)\n",
    "\n",
    "# TODO[2]: Fit the model to the first sequence\n",
    "mymodel.fit(data[0])\n",
    "\n",
    "# Predict the most likely hidden states for the first observation sequence and compute their \n",
    "# log-probability with the Viterbi algorithm\n",
    "mymodel.decode(data[0])"
   ]
  },
  {
   "cell_type": "code",
   "execution_count": null,
   "metadata": {},
   "outputs": [],
   "source": [
    "'''\n",
    "Now, let's fit the model to all data sequences from our file.\n",
    "'''\n",
    "all_data = np.concatenate([data[0], data[1]])\n",
    "lengths = [len(data[0]), len(data[1])]\n",
    "mymodel = hmm.GaussianHMM(n_components=2, n_iter=100)\n",
    "\n",
    "# Fit the model to the available sequences\n",
    "mymodel.fit(all_data, lengths)\n",
    "\n",
    "# TODO[3]: Predict the most likely hidden states for the first observation sequence and \n",
    "# compute their log-probability with the Viterbi algorithm\n",
    "mymodel.decode(data[0])"
   ]
  }
 ],
 "metadata": {
  "kernelspec": {
   "display_name": "Python 3",
   "language": "python",
   "name": "python3"
  },
  "language_info": {
   "codemirror_mode": {
    "name": "ipython",
    "version": 3
   },
   "file_extension": ".py",
   "mimetype": "text/x-python",
   "name": "python",
   "nbconvert_exporter": "python",
   "pygments_lexer": "ipython3",
   "version": "3.7.7"
  }
 },
 "nbformat": 4,
 "nbformat_minor": 4
}
