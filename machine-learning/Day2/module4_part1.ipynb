{
 "cells": [
  {
   "cell_type": "code",
   "execution_count": null,
   "metadata": {},
   "outputs": [],
   "source": [
    "'''\n",
    "First, we import all required packages.\n",
    "'''\n",
    "import numpy as np\n",
    "from hmmlearn import hmm\n",
    "np.random.seed(11)"
   ]
  },
  {
   "cell_type": "code",
   "execution_count": null,
   "metadata": {},
   "outputs": [],
   "source": [
    "'''\n",
    "Next, we read in our sequence data from a CSV file. Each line contains one sequence.\n",
    "'''\n",
    "# TODO[1]: Put the correct name of the file containing the data for part 1 of module 4 here\n",
    "FILENAME = ''\n",
    "\n",
    "data = []\n",
    "for line in open(FILENAME):\n",
    "    data.append([x for x in line.strip().split(',')])\n",
    "print(data)"
   ]
  },
  {
   "cell_type": "code",
   "execution_count": null,
   "metadata": {},
   "outputs": [],
   "source": [
    "'''\n",
    "We know use maximum likelihood estimation to obtain the parameters of our Markov chain.\n",
    "First, we count occurrences of inidividual states and state tuples.\n",
    "'''\n",
    "unigram_counts = {}\n",
    "for sequence in data:\n",
    "    for element in sequence[:-1]:\n",
    "        if element not in unigram_counts:\n",
    "            unigram_counts[element] = 0\n",
    "        unigram_counts[element] += 1\n",
    "\n",
    "# Print all unigram counts. Do you notice anything?\n",
    "print(unigram_counts)\n",
    "\n",
    "bigram_counts = {}\n",
    "for sequence in data:\n",
    "    for i in range(1, len(sequence)):\n",
    "        if sequence[i-1] + '_' + sequence[i] not in bigram_counts:\n",
    "            bigram_counts[sequence[i-1] + '_' + sequence[i]] = 0\n",
    "        bigram_counts[sequence[i-1] + '_' + sequence[i]] += 1\n",
    "\n",
    "# Print all bigram counts. \n",
    "print(bigram_counts)"
   ]
  },
  {
   "cell_type": "code",
   "execution_count": null,
   "metadata": {},
   "outputs": [],
   "source": [
    "'''\n",
    "Now, let's use the counts to obtain the transition probabilities of our Markov chain.\n",
    "'''\n",
    "markovChain = {'hot': {'hot': 0, 'warm': 0, 'cold': 0, 'very cold': 0},\n",
    "              'warm': {'hot': 0, 'warm': 0, 'cold': 0, 'very cold': 0},\n",
    "              'cold': {'hot': 0, 'warm': 0, 'cold': 0, 'very cold': 0},\n",
    "              'very cold': {'hot': 0, 'warm': 0, 'cold': 0, 'very cold': 0}}\n",
    "\n",
    "for key, value in markovChain.items():\n",
    "    for state in value.keys():\n",
    "        value[state] = float(bigram_counts[key + '_' + state]) / unigram_counts[key]\n",
    "print(markovChain)"
   ]
  },
  {
   "cell_type": "code",
   "execution_count": null,
   "metadata": {},
   "outputs": [],
   "source": [
    "'''\n",
    "Time for a sanity check: the probabilities of all bigrams with the same initial state should sum to 1.\n",
    "'''\n",
    "for key, value in markovChain.items():\n",
    "    print(key)\n",
    "    print(sum(value.values()))\n",
    "    if sum(value.values()) == 1:\n",
    "        print('Everything seems great!')\n",
    "    else:\n",
    "        print('There seems to be a problem. Please go back to the last cell and try again!')\n",
    "    print('')"
   ]
  },
  {
   "cell_type": "code",
   "execution_count": null,
   "metadata": {},
   "outputs": [],
   "source": [
    "'''\n",
    "Now, we only need to obtain the initial probabilities.\n",
    "'''\n",
    "\n",
    "pi = {}\n",
    "states = ['hot', 'warm', 'cold', 'very cold']\n",
    "\n",
    "initial_counts = {}\n",
    "for sequence in data:\n",
    "    if sequence[0] not in initial_counts:\n",
    "        initial_counts[sequence[0]] = 0\n",
    "    initial_counts[sequence[0]] += 1\n",
    "\n",
    "print(initial_counts)\n",
    "\n",
    "# TODO[2]: The next step are the initial probabilities\n",
    "for state in states:\n",
    "    pi[state] = -1\n",
    "print(pi)    "
   ]
  },
  {
   "cell_type": "code",
   "execution_count": null,
   "metadata": {},
   "outputs": [],
   "source": [
    "'''\n",
    "Time for another sanity check: the probabilities in pi should sum to 1.\n",
    "'''\n",
    "print(sum(pi.values()))\n",
    "if sum(pi.values()) == 1:\n",
    "    print('Everything seems great!')\n",
    "else: \n",
    "    print('There seems to be a problem. Try again!')"
   ]
  },
  {
   "cell_type": "code",
   "execution_count": null,
   "metadata": {},
   "outputs": [],
   "source": [
    "'''\n",
    "Finally, we will compute the probability of a couple of sequences.\n",
    "'''\n",
    "\n",
    "# TODO[3]: compute the probabilities of \n",
    "seq1 = ['hot', 'hot', 'warm', 'cold', 'warm', 'very cold']\n",
    "seq2 = ['warm', 'hot', 'warm', 'cold', 'very cold', 'cold', 'cold']\n",
    "seq3 = ['warm', 'cold']\n",
    "\n",
    "for seq in [seq1, seq2, seq3]:\n",
    "    # TODO: fill in something here\n",
    "    print(prob)"
   ]
  }
 ],
 "metadata": {
  "kernelspec": {
   "display_name": "Python 3",
   "language": "python",
   "name": "python3"
  },
  "language_info": {
   "codemirror_mode": {
    "name": "ipython",
    "version": 3
   },
   "file_extension": ".py",
   "mimetype": "text/x-python",
   "name": "python",
   "nbconvert_exporter": "python",
   "pygments_lexer": "ipython3",
   "version": "3.7.7"
  }
 },
 "nbformat": 4,
 "nbformat_minor": 4
}
