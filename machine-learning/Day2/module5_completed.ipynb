{
 "cells": [
  {
   "cell_type": "code",
   "execution_count": null,
   "metadata": {},
   "outputs": [],
   "source": [
    "'''\n",
    "First, we import all required packages.\n",
    "'''\n",
    "import random\n",
    "from random import shuffle\n",
    "random.seed(11)\n",
    "\n",
    "import torch\n",
    "import torch.nn as nn\n",
    "import torch.nn.functional as F\n",
    "import torch.optim as optim\n",
    "torch.manual_seed(11)"
   ]
  },
  {
   "cell_type": "code",
   "execution_count": null,
   "metadata": {},
   "outputs": [],
   "source": [
    "'''\n",
    "Next, we read in the unlabeled data from a CSV file. Each line contains one example.\n",
    "'''\n",
    "def load_data(fname = 'BYOSC_data.csv'):\n",
    "    data = []\n",
    "    for line in open(fname, encoding=\"utf8\", errors=\"ignore\"):\n",
    "        y, _, _, _, _, x = line[1:-2].strip().split('\",\"')\n",
    "        data.append((x, y))\n",
    "    \n",
    "    shuffle(data)\n",
    "    \n",
    "    train_set = data[:300]\n",
    "    dev_set = data[300:]\n",
    "\n",
    "    return train_set, dev_set"
   ]
  },
  {
   "cell_type": "code",
   "execution_count": null,
   "metadata": {},
   "outputs": [],
   "source": [
    "'''\n",
    "Methods needed to convert the data into input that can be fed into the neural network.\n",
    "'''\n",
    "def make_feature_vectors(data, w2i):\n",
    "    new_data = []\n",
    "\n",
    "    for (x, y) in data:\n",
    "        sentence = []\n",
    "        for word in x.split(' '):\n",
    "            if word in w2i:\n",
    "                sentence.append(w2i[word])\n",
    "\n",
    "        new_data.append((torch.tensor(sentence), torch.tensor([int(int(y)/2)])))\n",
    "        \n",
    "    return new_data\n",
    "\n",
    "def get_vocab(data):\n",
    "    w2i = {'<UNK>': 0}\n",
    "    \n",
    "    for (x, y) in data:\n",
    "        for word in x.split(' '):\n",
    "            if word not in w2i:\n",
    "                w2i[word] = len(w2i)\n",
    "\n",
    "    return w2i"
   ]
  },
  {
   "cell_type": "code",
   "execution_count": null,
   "metadata": {},
   "outputs": [],
   "source": [
    "'''\n",
    "Now, we define our neural network model.\n",
    "'''\n",
    "class MyNNModel(nn.Module):\n",
    "\n",
    "    def __init__(self, vocab_size, emb_dim, hidden_dim, output_dim):\n",
    "        super(MyNNModel, self).__init__()\n",
    "        self.embedding = nn.Embedding(vocab_size, emb_dim)\n",
    "        self.lstm = nn.LSTM(emb_dim, hidden_dim)\n",
    "        self.linear = nn.Linear(hidden_dim, output_dim)\n",
    "        \n",
    "    def forward(self, input):\n",
    "        x_1 = self.embedding(input)\n",
    "        x_2 = self.lstm(x_1.unsqueeze(1))[1][0].squeeze(0).squeeze(0)\n",
    "        return self.linear(x_2)"
   ]
  },
  {
   "cell_type": "code",
   "execution_count": null,
   "metadata": {},
   "outputs": [],
   "source": [
    "'''\n",
    "An evaluation method so we can see how well the model is doing.\n",
    "'''\n",
    "def eval(model, data):\n",
    "    model.eval()\n",
    "    \n",
    "    total = right = 0\n",
    "    for (x, y) in data:\n",
    "        probs = F.softmax(model(x), dim=0)\n",
    "        y_hat = torch.argmax(probs)\n",
    "        if y_hat == y:\n",
    "            right += 1\n",
    "        total += 1\n",
    "    print(\"Accuracy: \" + str((right * 1.0)/total))"
   ]
  },
  {
   "cell_type": "code",
   "execution_count": null,
   "metadata": {},
   "outputs": [],
   "source": [
    "'''\n",
    "Finally, let's put everything together and train the model!\n",
    "'''\n",
    "train, dev = load_data()\n",
    "vocab = get_vocab(train)\n",
    "train = make_feature_vectors(train, vocab)\n",
    "dev = make_feature_vectors(dev, vocab)\n",
    "    \n",
    "# TODO[3]: substitute -1 by more reasonable values!\n",
    "model = MyNNModel(len(vocab), 64, 32, 3)\n",
    "    \n",
    "loss_function = nn.CrossEntropyLoss()\n",
    "optimizer = optim.SGD(model.parameters(), lr=.01)\n",
    "    \n",
    "eval(model, train)\n",
    "eval(model, dev)\n",
    "print()\n",
    "        \n",
    "for i in range(3):\n",
    "    model.train()\n",
    "    for (x, y) in train:\n",
    "        model.zero_grad()\n",
    "        raw_scores = model(x)\n",
    "        loss = loss_function(raw_scores.unsqueeze(0), y)\n",
    "        loss.backward()\n",
    "        optimizer.step()\n",
    "        \n",
    "    eval(model, train)\n",
    "    eval(model, dev)\n",
    "    print()"
   ]
  }
 ],
 "metadata": {
  "kernelspec": {
   "display_name": "Python 3 (ipykernel)",
   "language": "python",
   "name": "python3"
  },
  "language_info": {
   "codemirror_mode": {
    "name": "ipython",
    "version": 3
   },
   "file_extension": ".py",
   "mimetype": "text/x-python",
   "name": "python",
   "nbconvert_exporter": "python",
   "pygments_lexer": "ipython3",
   "version": "3.9.6"
  }
 },
 "nbformat": 4,
 "nbformat_minor": 4
}
