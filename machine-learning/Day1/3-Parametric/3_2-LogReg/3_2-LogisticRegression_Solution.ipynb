{
 "cells": [
  {
   "cell_type": "code",
   "execution_count": null,
   "metadata": {},
   "outputs": [],
   "source": [
    "import numpy as np\n",
    "import pandas\n",
    "import matplotlib.pyplot as plt\n",
    "import sklearn\n",
    "import sklearn.datasets\n",
    "import sklearn.model_selection\n",
    "import sklearn.tree\n",
    "import sklearn.preprocessing\n",
    "import sklearn.ensemble\n",
    "import sklearn.linear_model"
   ]
  },
  {
   "cell_type": "code",
   "execution_count": 1,
   "metadata": {},
   "outputs": [],
   "source": [
    "from pandas import read_csv\n",
    "adultData = read_csv('adult-dataset-full.csv')\n",
    "\n",
    "adultData_dummies = pandas.get_dummies(adultData, prefix='', prefix_sep='', \n",
    "                            columns=adultData.select_dtypes(include=['object']).columns.tolist())\n",
    "\n",
    "train, test = sklearn.model_selection.train_test_split(adultData_dummies)\n",
    "\n",
    "train_y = train[\"high-income->=50k\"]\n",
    "train_X = train.drop(\"high-income->=50k\",1)\n",
    "test_y = test[\"high-income->=50k\"]\n",
    "test_X = test.drop(\"high-income->=50k\",1)\n",
    "\n",
    "classifier = sklearn.linear_model.LogisticRegression()\n",
    "classifier.fit(train_X, train_y)\n",
    "print(classifier.score(test_X, test_y))"
   ]
  },
  {
   "cell_type": "code",
   "execution_count": null,
   "metadata": {},
   "outputs": [],
   "source": []
  }
 ],
 "metadata": {
  "kernelspec": {
   "display_name": "Python 3",
   "language": "python",
   "name": "python3"
  },
  "language_info": {
   "codemirror_mode": {
    "name": "ipython",
    "version": 3
   },
   "file_extension": ".py",
   "mimetype": "text/x-python",
   "name": "python",
   "nbconvert_exporter": "python",
   "pygments_lexer": "ipython3",
   "version": "3.8.8"
  }
 },
 "nbformat": 4,
 "nbformat_minor": 2
}
