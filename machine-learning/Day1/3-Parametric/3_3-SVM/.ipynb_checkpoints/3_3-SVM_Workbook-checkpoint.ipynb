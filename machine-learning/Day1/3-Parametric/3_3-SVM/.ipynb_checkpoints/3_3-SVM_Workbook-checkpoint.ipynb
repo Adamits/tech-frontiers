{
 "cells": [
  {
   "cell_type": "code",
   "execution_count": 1,
   "metadata": {},
   "outputs": [],
   "source": []
  },
  {
   "cell_type": "code",
   "execution_count": 2,
   "metadata": {},
   "outputs": [],
   "source": [
    "# Import data from file 'adult-num-full.csv'\n",
    "\n",
    "# Normalize values before completing train / test split\n",
    "\n",
    "# Set up train / test split, using \"high-income->=50k\" as the Outcome variable\n",
    "\n",
    "# Create, fit, and score a Support Vector Machine Classifier:\n",
    "    # sklearn.svm.SVC()\n",
    "\n",
    "# BONUS 1: Learn how to set up different Kernels\n"
   ]
  },
  {
   "cell_type": "code",
   "execution_count": null,
   "metadata": {},
   "outputs": [],
   "source": []
  }
 ],
 "metadata": {
  "kernelspec": {
   "display_name": "Python 3",
   "language": "python",
   "name": "python3"
  },
  "language_info": {
   "codemirror_mode": {
    "name": "ipython",
    "version": 3
   },
   "file_extension": ".py",
   "mimetype": "text/x-python",
   "name": "python",
   "nbconvert_exporter": "python",
   "pygments_lexer": "ipython3",
   "version": "3.8.8"
  }
 },
 "nbformat": 4,
 "nbformat_minor": 2
}
