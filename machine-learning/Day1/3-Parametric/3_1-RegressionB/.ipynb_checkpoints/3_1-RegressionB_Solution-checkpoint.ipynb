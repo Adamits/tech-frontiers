{
 "cells": [
  {
   "cell_type": "code",
   "execution_count": null,
   "metadata": {},
   "outputs": [],
   "source": [
    "import numpy as np\n",
    "import pandas\n",
    "import matplotlib.pyplot as plt\n",
    "import sklearn\n",
    "import sklearn.datasets\n",
    "import sklearn.model_selection\n",
    "import sklearn.tree\n",
    "import sklearn.preprocessing\n",
    "import sklearn.ensemble\n",
    "import sklearn.metrics\n",
    "import sklearn.linear_model"
   ]
  },
  {
   "cell_type": "code",
   "execution_count": null,
   "metadata": {},
   "outputs": [],
   "source": [
    "housingDataBunch = sklearn.datasets.fetch_california_housing(as_frame=True)\n",
    "print(housingDataBunch.DESCR)\n",
    "\n",
    "housingData = housingDataBunch.frame\n",
    "print(housingData)\n",
    "\n",
    "train, test = sklearn.model_selection.train_test_split(housingData)\n",
    "\n",
    "train_y = train[\"MedHouseVal\"]\n",
    "train_X = train.drop(\"MedHouseVal\",1)\n",
    "test_y = test[\"MedHouseVal\"]\n",
    "test_X = test.drop(\"MedHouseVal\",1)\n",
    "\n",
    "classifier = sklearn.linear_model.DecisionTreeRegressor()\n",
    "classifier.fit(train_X, train_y)\n",
    "print(classifier.score(test_X, test_y))\n",
    "\n",
    "classifier2 = sklearn.ensemble.RandomForestRegressor()\n",
    "classifier2.fit(train_X, train_y)\n",
    "print(classifier2.score(test_X, test_y))\n",
    "\n",
    "train_y_means = np.empty(len(test_y))\n",
    "train_y_means.fill(train_y.mean())\n",
    "print(test_y)\n",
    "print(train_y_means)\n",
    "print(sklearn.metrics.mean_squared_error(test_y,train_y_means))"
   ]
  }
 ],
 "metadata": {
  "kernelspec": {
   "display_name": "Python 3",
   "language": "python",
   "name": "python3"
  },
  "language_info": {
   "codemirror_mode": {
    "name": "ipython",
    "version": 3
   },
   "file_extension": ".py",
   "mimetype": "text/x-python",
   "name": "python",
   "nbconvert_exporter": "python",
   "pygments_lexer": "ipython3",
   "version": "3.8.8"
  }
 },
 "nbformat": 4,
 "nbformat_minor": 2
}
