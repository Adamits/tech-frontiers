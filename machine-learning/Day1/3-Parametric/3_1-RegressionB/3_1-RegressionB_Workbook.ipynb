{
 "cells": [
  {
   "cell_type": "code",
   "execution_count": 1,
   "metadata": {},
   "outputs": [],
   "source": []
  },
  {
   "cell_type": "code",
   "execution_count": 1,
   "metadata": {},
   "outputs": [],
   "source": [
    "# Import data from Python SKLearn Repository - California Housing\n",
    "    #sklearn.datasets.fetch_california_housing(as_frame=True)\n",
    "\n",
    "# Set up train / test split, using \"MedHouseVal\" as the Outcome variable\n",
    "\n",
    "# Create, fit, and score a Linear Regression Model:\n",
    "    # sklearn.linear_model.LinearRegression()\n",
    "\n",
    "#BONUS 1: Compare to a Linear Regression Model with the 'normalize=True' flag\n"
   ]
  },
  {
   "cell_type": "code",
   "execution_count": null,
   "metadata": {},
   "outputs": [],
   "source": []
  },
  {
   "cell_type": "code",
   "execution_count": null,
   "metadata": {},
   "outputs": [],
   "source": []
  }
 ],
 "metadata": {
  "kernelspec": {
   "display_name": "Python 3",
   "language": "python",
   "name": "python3"
  },
  "language_info": {
   "codemirror_mode": {
    "name": "ipython",
    "version": 3
   },
   "file_extension": ".py",
   "mimetype": "text/x-python",
   "name": "python",
   "nbconvert_exporter": "python",
   "pygments_lexer": "ipython3",
   "version": "3.8.8"
  }
 },
 "nbformat": 4,
 "nbformat_minor": 2
}
