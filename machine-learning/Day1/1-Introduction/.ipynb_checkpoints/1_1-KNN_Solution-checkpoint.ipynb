{
 "cells": [
  {
   "cell_type": "code",
   "execution_count": 3,
   "metadata": {},
   "outputs": [],
   "source": [
    "import numpy as np\n",
    "import matplotlib.pyplot as plt\n",
    "import sklearn\n",
    "import sklearn.datasets"
   ]
  },
  {
   "cell_type": "code",
   "execution_count": 2,
   "metadata": {},
   "outputs": [
    {
     "name": "stdout",
     "output_type": "stream",
     "text": [
      "[1]\n"
     ]
    }
   ],
   "source": [
    "### TECH FRONTIERS WORKSHOP\n",
    "# Exercise 1.1 - K-Nearest Neighbors\n",
    "# Some content adapted from https://scikit-learn.org/stable/modules/generated/sklearn.neighbors.KNeighborsClassifier.html\n",
    "\n",
    "###YOUR_NAME_HERE\n",
    "\n",
    "from sklearn.neighbors import KNeighborsClassifier\n",
    "\n",
    "#Set up your \"features\" for each sample\n",
    "X = [[0,2], [1,4], [2,0], [2,5], [3,2], [4,1], [4,4], [5,2], [5,5], [6,0]]\n",
    "#Set up your \"outcomes\" for each sample\n",
    "y = [0, 1, 1, 1, 0, 1, 1, 0, 0, 1]\n",
    "#Set up the parameters of your model\n",
    "myModel = KNeighborsClassifier(n_neighbors=3)\n",
    "#\"Fit\" your model to the data you have\n",
    "myModel.fit(X, y)\n",
    "#Use your model to predict one or more points that you care about\n",
    "print(myModel.predict([[0, 3]]))\n",
    "\n"
   ]
  },
  {
   "cell_type": "code",
   "execution_count": 11,
   "metadata": {},
   "outputs": [
    {
     "name": "stdout",
     "output_type": "stream",
     "text": [
      "The number of datapoints in Training set :  1437\n",
      "The number of datapoints in Test set :  360\n",
      "Dimensionality of datapoint :  64\n"
     ]
    },
    {
     "data": {
      "text/plain": [
       "<Figure size 432x288 with 0 Axes>"
      ]
     },
     "metadata": {},
     "output_type": "display_data"
    },
    {
     "data": {
      "image/png": "[encoded data removed]",
      "text/plain": [
       "<Figure size 288x288 with 1 Axes>"
      ]
     },
     "metadata": {
      "needs_background": "light"
     },
     "output_type": "display_data"
    },
    {
     "name": "stdout",
     "output_type": "stream",
     "text": [
      "[[29  0  0  0  0  0  0  0  0  0]\n",
      " [ 0 30  0  0  0  0  0  0  2  1]\n",
      " [ 0  0 23  0  0  0  0  0  0  0]\n",
      " [ 0  0  0 44  0  0  0  0  0  0]\n",
      " [ 0  0  0  0 41  0  0  0  0  0]\n",
      " [ 0  0  0  0  0 47  0  0  0  1]\n",
      " [ 0  0  0  0  0  1 29  0  0  0]\n",
      " [ 0  0  0  0  0  0  0 34  0  0]\n",
      " [ 0  0  0  0  0  0  0  0 42  0]\n",
      " [ 0  0  0  0  0  0  0  0  0 36]]\n"
     ]
    }
   ],
   "source": [
    "class Numbers:\n",
    "    def __init__(self):\n",
    "        #load data from sklearn\n",
    "        digits, target = sklearn.datasets.load_digits(return_X_y=True)\n",
    "        \n",
    "        #Split our data into Train & Test sets\n",
    "        indices = np.arange(len(target)) #first, create a range of indecies\n",
    "        np.random.shuffle(indices) #randomize our indecies\n",
    "        train_test_split = int(len(target)*0.8) #create a number representing the point of our split (80% train)\n",
    "        self.train_x = digits[indices[0:train_test_split]] # grab the subsection of digits indecies from 0 to our split point\n",
    "        self.train_y = target[indices[0:train_test_split]] # grab the subsection of target indecies from 0 to our split point\n",
    "        self.test_x = digits[indices[train_test_split:]] # grab the subsection of digits indecies from our split point to the end\n",
    "        self.test_y = target[indices[train_test_split:]] # grab the subsection of target indecies from our split point to the end\n",
    "        \n",
    "    def report(self):\n",
    "        #TODO: Create printouts for reporting the size of each set and the size of each datapoint\n",
    "        print(\"The number of datapoints in Training set : \", number.train_x.shape[0])\n",
    "        print(\"The number of datapoints in Test set : \", number.test_x.shape[0])\n",
    "        print(\"Dimensionality of datapoint : \", number.train_x[0].shape[0])\n",
    "\n",
    "    def classify(self):\n",
    "        K = 1\n",
    "        distances = np.linalg.norm(self.train_x[:,None] - self.test_x, axis=2)\n",
    "        indecies = np.transpose(np.argsort(distances, axis=0)[:K])\n",
    "        classes_pred = self.train_y[indecies]\n",
    "        labels = np.array([np.argmax(np.bincount(class_grp)) for class_grp in classes_pred])\n",
    "        conf_mat = sklearn.metrics.confusion_matrix(labels, self.test_y)\n",
    "        misclassfied_mask = (np.absolute(labels-self.test_y)).astype(bool)\n",
    "        misclassfied_ids = np.arange(len(self.test_y))[misclassfied_mask]\n",
    "        misclassfied_label = labels[misclassfied_mask]\n",
    "        accuracy = sklearn.metrics.accuracy_score(labels, self.test_y)\n",
    "        return conf_mat\n",
    "        \n",
    "    def viewDigit(self, digitImage):\n",
    "        \"\"\"\n",
    "        Display an image of a digit\n",
    "        PARAMETERS\n",
    "        digitImage - a data object from the dataset\n",
    "        \"\"\"\n",
    "        plt.gray()\n",
    "        plt.matshow(digitImage)\n",
    "        plt.show()\n",
    "        \n",
    "number = Numbers() #Create instance of Numbers class (calls __init__)\n",
    "number.report() #Check our report() function for details on the dataset \n",
    "number.viewDigit(number.train_x[0].reshape(8,8)) #Look at the first datapoint of our training set, a random digit\n",
    "confusion_matrix = number.classify() #Try and classify our points, store the output confusion matrix\n",
    "print(confusion_matrix) #display our confusion matrix"
   ]
  },
  {
   "cell_type": "code",
   "execution_count": 9,
   "metadata": {},
   "outputs": [
    {
     "ename": "NameError",
     "evalue": "name 'misclassfied_label' is not defined",
     "output_type": "error",
     "traceback": [
      "\u001b[1;31m---------------------------------------------------------------------------\u001b[0m",
      "\u001b[1;31mNameError\u001b[0m                                 Traceback (most recent call last)",
      "\u001b[1;32m<ipython-input-9-4894d73d9ea1>\u001b[0m in \u001b[0;36m<module>\u001b[1;34m\u001b[0m\n\u001b[0;32m      1\u001b[0m \u001b[1;31m#BEGIN 3.1a\u001b[0m\u001b[1;33m\u001b[0m\u001b[1;33m\u001b[0m\u001b[1;33m\u001b[0m\u001b[0m\n\u001b[0;32m      2\u001b[0m \u001b[1;31m#TODO: Print out problem class images\u001b[0m\u001b[1;33m\u001b[0m\u001b[1;33m\u001b[0m\u001b[1;33m\u001b[0m\u001b[0m\n\u001b[1;32m----> 3\u001b[1;33m \u001b[1;32mfor\u001b[0m \u001b[0mid_\u001b[0m \u001b[1;32min\u001b[0m \u001b[0mrange\u001b[0m\u001b[1;33m(\u001b[0m\u001b[0mlen\u001b[0m\u001b[1;33m(\u001b[0m\u001b[0mmisclassfied_label\u001b[0m\u001b[1;33m)\u001b[0m\u001b[1;33m)\u001b[0m\u001b[1;33m:\u001b[0m\u001b[1;33m\u001b[0m\u001b[1;33m\u001b[0m\u001b[0m\n\u001b[0m\u001b[0;32m      4\u001b[0m     \u001b[0mprint\u001b[0m\u001b[1;33m(\u001b[0m\u001b[0mmisclassfied_label\u001b[0m\u001b[1;33m[\u001b[0m\u001b[0mid_\u001b[0m\u001b[1;33m]\u001b[0m\u001b[1;33m,\u001b[0m \u001b[0mnumber\u001b[0m\u001b[1;33m.\u001b[0m\u001b[0mtest_y\u001b[0m\u001b[1;33m[\u001b[0m\u001b[0mmisclassfied_ids\u001b[0m\u001b[1;33m[\u001b[0m\u001b[0mid_\u001b[0m\u001b[1;33m]\u001b[0m\u001b[1;33m]\u001b[0m\u001b[1;33m)\u001b[0m\u001b[1;33m\u001b[0m\u001b[1;33m\u001b[0m\u001b[0m\n\u001b[0;32m      5\u001b[0m     \u001b[0mnumber\u001b[0m\u001b[1;33m.\u001b[0m\u001b[0mviewDigit\u001b[0m\u001b[1;33m(\u001b[0m\u001b[0mnumber\u001b[0m\u001b[1;33m.\u001b[0m\u001b[0mtest_x\u001b[0m\u001b[1;33m[\u001b[0m\u001b[0mmisclassfied_ids\u001b[0m\u001b[1;33m[\u001b[0m\u001b[0mid_\u001b[0m\u001b[1;33m]\u001b[0m\u001b[1;33m]\u001b[0m\u001b[1;33m.\u001b[0m\u001b[0mreshape\u001b[0m\u001b[1;33m(\u001b[0m\u001b[1;36m8\u001b[0m\u001b[1;33m,\u001b[0m\u001b[1;36m8\u001b[0m\u001b[1;33m)\u001b[0m\u001b[1;33m)\u001b[0m\u001b[1;33m\u001b[0m\u001b[1;33m\u001b[0m\u001b[0m\n",
      "\u001b[1;31mNameError\u001b[0m: name 'misclassfied_label' is not defined"
     ]
    }
   ],
   "source": [
    "#BEGIN 3.1a\n",
    "#TODO: Print out problem class images\n",
    "for id_ in range(len(misclassfied_label)):\n",
    "    print(misclassfied_label[id_], number.test_y[misclassfied_ids[id_]])\n",
    "    number.viewDigit(number.test_x[misclassfied_ids[id_]].reshape(8,8))\n",
    "#END 3.1a"
   ]
  },
  {
   "cell_type": "code",
   "execution_count": null,
   "metadata": {},
   "outputs": [],
   "source": []
  }
 ],
 "metadata": {
  "kernelspec": {
   "display_name": "Python 3",
   "language": "python",
   "name": "python3"
  },
  "language_info": {
   "codemirror_mode": {
    "name": "ipython",
    "version": 3
   },
   "file_extension": ".py",
   "mimetype": "text/x-python",
   "name": "python",
   "nbconvert_exporter": "python",
   "pygments_lexer": "ipython3",
   "version": "3.7.1"
  }
 },
 "nbformat": 4,
 "nbformat_minor": 2
}
