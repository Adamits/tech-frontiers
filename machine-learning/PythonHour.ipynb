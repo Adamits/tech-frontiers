{
 "cells": [
  {
   "cell_type": "code",
   "execution_count": null,
   "metadata": {},
   "outputs": [],
   "source": [
    "print(\"hello, world!\")"
   ]
  },
  {
   "cell_type": "code",
   "execution_count": null,
   "metadata": {},
   "outputs": [],
   "source": [
    "X = \"hello 2.0\"\n",
    "print(X)"
   ]
  },
  {
   "cell_type": "code",
   "execution_count": null,
   "metadata": {},
   "outputs": [],
   "source": [
    "X = \"3*4\"\n",
    "Y = 3*4\n",
    "print(X)\n",
    "print(Y)"
   ]
  },
  {
   "cell_type": "code",
   "execution_count": null,
   "metadata": {},
   "outputs": [],
   "source": [
    "import math\n",
    "abc = 10\n",
    "print(1+2*3-4/5)\n",
    "print(math.sqrt(2))\n",
    "print(math.log(10))\n",
    "print(abc)"
   ]
  },
  {
   "cell_type": "code",
   "execution_count": null,
   "metadata": {},
   "outputs": [],
   "source": [
    "from pandas import read_csv\n",
    "records = read_csv('testScores.csv')\n",
    "print(records)\n",
    "print()\n",
    "\n",
    "scores = records[\"score\"]\n",
    "print(scores)\n",
    "print()\n",
    "\n",
    "\n",
    "firstThreeRows = records[0:2]\n",
    "print(firstThreeRows)\n",
    "print()\n",
    "\n",
    "\n",
    "franklin = records.loc[records.username == \"franklin\"]\n",
    "print(franklin)\n",
    "print()\n",
    "\n",
    "studentName = franklin.iat[0,1]\n",
    "studentScore = franklin.iat[0,2]\n",
    "print(studentScore)\n",
    "print()\n",
    "\n",
    "if studentScore > 90:\n",
    "    print(studentName + \" scored \" + str(studentScore) + \" so they got an A!\")\n",
    "elif studentScore > 80:\n",
    "    print(studentName + \" scored \" + str(studentScore) + \" so they got a B!\")\n",
    "elif studentScore > 70:\n",
    "    print(studentName + \" scored \" + str(studentScore) + \" so they got a C!\")\n",
    "elif studentScore > 60:\n",
    "    print(studentName + \" scored \" + str(studentScore) + \" so they got a D!\")\n",
    "else:\n",
    "    print(studentName + \" scored \" + str(studentScore) + \" so they got an F!\")\n"
   ]
  },
  {
   "cell_type": "code",
   "execution_count": null,
   "metadata": {},
   "outputs": [],
   "source": [
    "from pandas import read_csv\n",
    "records = read_csv('testScores.csv')\n",
    "print(records.head())\n",
    "print()\n",
    "\n",
    "scores = records[\"score\"]\n",
    "print(scores)\n",
    "print()\n",
    "\n",
    "\n",
    "firstThreeRows = records[0:2]\n",
    "print(firstThreeRows)\n",
    "print()\n",
    "\n",
    "\n",
    "studentName = records.loc[records.username == \"franklin\"][\"username\"].values[0]\n",
    "studentScore = records.loc[records.username == \"franklin\"][\"score\"].values[0]\n",
    "print(studentName)\n",
    "print(studentScore)\n",
    "print()\n",
    "\n",
    "if studentScore > 90:\n",
    "    print(studentName + \" scored \" + str(studentScore) + \" so they got an A!\")\n",
    "elif studentScore > 80:\n",
    "    print(studentName + \" scored \" + str(studentScore) + \" so they got a B!\")\n",
    "elif studentScore > 70:\n",
    "    print(studentName + \" scored \" + str(studentScore) + \" so they got a C!\")\n",
    "elif studentScore > 60:\n",
    "    print(studentName + \" scored \" + str(studentScore) + \" so they got a D!\")\n",
    "else:\n",
    "    print(studentName + \" scored \" + str(studentScore) + \" so they got an F!\")\n"
   ]
  },
  {
   "cell_type": "code",
   "execution_count": null,
   "metadata": {},
   "outputs": [],
   "source": []
  }
 ],
 "metadata": {
  "kernelspec": {
   "display_name": "Python 3",
   "language": "python",
   "name": "python3"
  },
  "language_info": {
   "codemirror_mode": {
    "name": "ipython",
    "version": 3
   },
   "file_extension": ".py",
   "mimetype": "text/x-python",
   "name": "python",
   "nbconvert_exporter": "python",
   "pygments_lexer": "ipython3",
   "version": "3.7.1"
  }
 },
 "nbformat": 4,
 "nbformat_minor": 4
}
