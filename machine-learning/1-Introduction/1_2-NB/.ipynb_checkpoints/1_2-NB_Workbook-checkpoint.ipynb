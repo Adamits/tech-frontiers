{
 "cells": [
  {
   "cell_type": "code",
   "execution_count": 4,
   "metadata": {},
   "outputs": [],
   "source": []
  },
  {
   "cell_type": "code",
   "execution_count": 1,
   "metadata": {},
   "outputs": [],
   "source": [
    "### TECH FRONTIERS WORKSHOP\n",
    "# Exercise 1.2 - Naive Bayes\n",
    "\n",
    "###YOUR_NAME_HERE\n",
    "\n",
    "\n",
    "# Import data from file 'adult-categ-full.csv'\n",
    "\n",
    "# Set up train / test split, using \"high-income->=50k\" as the Outcome variable\n",
    "\n",
    "# Encode our data into Ordinal numeric values so SciKitLearn can read it for NB\n",
    "\n",
    "# Create, fit, and score a Naive Bayes Classifier:\n",
    "    # sklearn.naive_bayes.CategoricalNB()\n",
    "    #Note: SKLearn defaults to a Laplace smoothing parameter of 1.0\n",
    "        #https://scikit-learn.org/stable/modules/generated/sklearn.naive_bayes.CategoricalNB.html\n",
    "\n",
    "# BONUS 1: Normalize values before completing train / test split\n",
    "\n",
    "# BONUS 2: Compare results from original classifier to one without fnlwgt"
   ]
  },
  {
   "cell_type": "code",
   "execution_count": 2,
   "metadata": {},
   "outputs": [],
   "source": [
    "#BONUS 1: Compare results for Categorical analysis with K-NN\n",
    "    #NOTE: This will require you to use a one-hot dummy encoding rather than ordinal\n"
   ]
  },
  {
   "cell_type": "code",
   "execution_count": null,
   "metadata": {},
   "outputs": [],
   "source": []
  }
 ],
 "metadata": {
  "kernelspec": {
   "display_name": "Python 3",
   "language": "python",
   "name": "python3"
  },
  "language_info": {
   "codemirror_mode": {
    "name": "ipython",
    "version": 3
   },
   "file_extension": ".py",
   "mimetype": "text/x-python",
   "name": "python",
   "nbconvert_exporter": "python",
   "pygments_lexer": "ipython3",
   "version": "3.8.8"
  }
 },
 "nbformat": 4,
 "nbformat_minor": 2
}
