{
 "cells": [
  {
   "cell_type": "code",
   "execution_count": 4,
   "metadata": {},
   "outputs": [],
   "source": [
    "import numpy as np\n",
    "import matplotlib.pyplot as plt\n",
    "import pandas\n",
    "import sklearn\n",
    "import sklearn.datasets\n",
    "import sklearn.model_selection\n",
    "import sklearn.naive_bayes\n",
    "import sklearn.preprocessing\n",
    "import sklearn.preprocessing\n",
    "import sklearn.neighbors"
   ]
  },
  {
   "cell_type": "code",
   "execution_count": 2,
   "metadata": {},
   "outputs": [
    {
     "name": "stdout",
     "output_type": "stream",
     "text": [
      "0.7901072803210221\n"
     ]
    }
   ],
   "source": [
    "### TECH FRONTIERS WORKSHOP\n",
    "# Exercise 1.2 - Naive Bayes\n",
    "\n",
    "###YOUR_NAME_HERE\n",
    "\n",
    "#Read in and divide our data into train and test sets\n",
    "from pandas import read_csv\n",
    "adultData = read_csv('adult-categ-full.csv')\n",
    "train, test = sklearn.model_selection.train_test_split(adultData)\n",
    "train_y = train[\"high-income->=50k\"]\n",
    "train_X = train.drop(\"high-income->=50k\",1)\n",
    "test_y = test[\"high-income->=50k\"]\n",
    "test_X = test.drop(\"high-income->=50k\",1)\n",
    "\n",
    "# Encode our data into numeric values so SciKitLearn can read it for NB\n",
    "ordinal_encoder = sklearn.preprocessing.OrdinalEncoder(handle_unknown='use_encoded_value', unknown_value=np.nan)\n",
    "ordinal_encoder.fit(adultData.drop(\"high-income->=50k\",1))\n",
    "train_X_ordinal = ordinal_encoder.transform(train_X)\n",
    "test_X_ordinal = ordinal_encoder.transform(test_X)\n",
    "\n",
    "# Create, fit, and run our Naive Bayes classifier\n",
    "classifier = sklearn.naive_bayes.CategoricalNB() #Note: SKLearn defaults to a Laplace smoothing parameter of 1.0\n",
    "    #https://scikit-learn.org/stable/modules/generated/sklearn.naive_bayes.CategoricalNB.html\n",
    "classifier.fit(train_X_ordinal, train_y)\n",
    "print(classifier.score(test_X_ordinal, test_y))\n"
   ]
  },
  {
   "cell_type": "code",
   "execution_count": 5,
   "metadata": {},
   "outputs": [
    {
     "name": "stdout",
     "output_type": "stream",
     "text": [
      "0.8098435836540824\n"
     ]
    }
   ],
   "source": [
    "adultData_dummies = pandas.get_dummies(adultData, prefix='', prefix_sep='', \n",
    "                            columns=adultData.select_dtypes(include=['object']).columns.tolist())\n",
    "\n",
    "train2, test2 = sklearn.model_selection.train_test_split(adultData_dummies)\n",
    "train2_y = train2[\"high-income->=50k\"]\n",
    "train2_X = train2.drop(\"high-income->=50k\",1)\n",
    "test2_y = test2[\"high-income->=50k\"]\n",
    "test2_X = test2.drop(\"high-income->=50k\",1)\n",
    "\n",
    "# Create, fit, and run our KNN classifier\n",
    "classifier = sklearn.neighbors.KNeighborsClassifier()\n",
    "classifier.fit(train2_X, train2_y)\n",
    "print(classifier.score(test2_X, test2_y))"
   ]
  },
  {
   "cell_type": "code",
   "execution_count": null,
   "metadata": {},
   "outputs": [],
   "source": []
  }
 ],
 "metadata": {
  "kernelspec": {
   "display_name": "Python 3",
   "language": "python",
   "name": "python3"
  },
  "language_info": {
   "codemirror_mode": {
    "name": "ipython",
    "version": 3
   },
   "file_extension": ".py",
   "mimetype": "text/x-python",
   "name": "python",
   "nbconvert_exporter": "python",
   "pygments_lexer": "ipython3",
   "version": "3.8.8"
  }
 },
 "nbformat": 4,
 "nbformat_minor": 2
}
