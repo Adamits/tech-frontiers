{
 "cells": [
  {
   "cell_type": "code",
   "execution_count": 2,
   "metadata": {},
   "outputs": [],
   "source": [
    "import numpy as np\n",
    "import matplotlib.pyplot as plt\n",
    "from pandas import read_csv\n",
    "import sklearn\n",
    "import sklearn.datasets\n",
    "import sklearn.model_selection\n",
    "import sklearn.neighbors\n",
    "import sklearn.preprocessing"
   ]
  },
  {
   "cell_type": "code",
   "execution_count": 19,
   "metadata": {},
   "outputs": [
    {
     "name": "stdout",
     "output_type": "stream",
     "text": [
      "0.6666666666666666\n"
     ]
    }
   ],
   "source": [
    "### TECH FRONTIERS WORKSHOP\n",
    "# Exercise 1.1 - K-Nearest Neighbors\n",
    "# Some content adapted from https://scikit-learn.org/stable/modules/generated/sklearn.neighbors.KNeighborsClassifier.html\n",
    "\n",
    "###YOUR_NAME_HERE\n",
    "\n",
    "from sklearn.neighbors import KNeighborsClassifier\n",
    "\n",
    "#Set up your \"features\" for each sample\n",
    "train_X = [[0,2], [1,4], [2,0], [2,5], [3,2], [4,1], [4,4], [5,2], [5,5], [6,0]]\n",
    "#Set up your \"outcomes\" for each sample\n",
    "train_y = [0, 1, 1, 1, 0, 1, 1, 0, 0, 1]\n",
    "#set up features for our test set\n",
    "test_X = [[0,3], [2, 4], [4,2]]\n",
    "#set up ground truth outcomes for our test set\n",
    "test_y = [0, 1, 0]\n",
    "#Set up the parameters of your model\n",
    "myModel = KNeighborsClassifier(n_neighbors=3)\n",
    "#\"Fit\" your model to the data you have\n",
    "myModel.fit(train_X, train_y)\n",
    "#Use your model to predict one or more points that you care about\n",
    "print(myModel.score(test_X, test_y))\n",
    "\n"
   ]
  },
  {
   "cell_type": "code",
   "execution_count": 3,
   "metadata": {},
   "outputs": [
    {
     "name": "stdout",
     "output_type": "stream",
     "text": [
      "Our full dataset:\n",
      "   age  fnlwgt  education-num  capital-gain  capital-loss  hours-per-week  \\\n",
      "0   39   77516             13          2174             0              40   \n",
      "1   50   83311             13             0             0              13   \n",
      "2   38  215646              9             0             0              40   \n",
      "3   53  234721              7             0             0              40   \n",
      "4   28  338409             13             0             0              40   \n",
      "\n",
      "   high-income->=50k  \n",
      "0                  0  \n",
      "1                  0  \n",
      "2                  0  \n",
      "3                  0  \n",
      "4                  0  \n",
      "\n",
      "Our dataset, in train and test subsets (and normalized):\n",
      "            age    fnlwgt  education-num  capital-gain  capital-loss  \\\n",
      "9148  -1.286866 -1.032007      -0.419331     -0.144802     -0.217125   \n",
      "30592  0.901237 -0.329278      -0.419331     -0.144802     -0.217125   \n",
      "46040 -1.140992  0.055338       1.136500     -0.144802     -0.217125   \n",
      "25336  1.120047 -1.536231      -0.419331     -0.144802     -0.217125   \n",
      "2380  -1.140992 -0.387420      -0.030373     -0.144802     -0.217125   \n",
      "\n",
      "       hours-per-week  high-income->=50k  \n",
      "9148        -0.034087                  0  \n",
      "30592        0.934324                  0  \n",
      "46040        0.369418                  0  \n",
      "25336       -0.034087                  1  \n",
      "2380        -0.437591                  0  \n",
      "            age    fnlwgt  education-num  capital-gain  capital-loss  \\\n",
      "14790 -0.484562  0.574693      -1.586204     -0.144802     -0.217125   \n",
      "28916 -1.140992  0.561663      -1.197247     -0.144802     -0.217125   \n",
      "18850 -0.849245 -0.691746      -0.030373     -0.144802     -0.217125   \n",
      "41112 -1.286866 -1.003372      -1.975162     -0.144802     -0.217125   \n",
      "3300  -0.557498 -0.001924       0.747543     -0.144802     -0.217125   \n",
      "\n",
      "       hours-per-week  high-income->=50k  \n",
      "14790        0.369418                  0  \n",
      "28916       -0.034087                  0  \n",
      "18850        0.772922                  0  \n",
      "41112       -0.841095                  0  \n",
      "3300         0.046614                  0  \n",
      "\n",
      "Our subsets divided down so we can work with the features (X) and outputs (y) separately:\n",
      "            age    fnlwgt  education-num  capital-gain  capital-loss  \\\n",
      "9148  -1.286866 -1.032007      -0.419331     -0.144802     -0.217125   \n",
      "30592  0.901237 -0.329278      -0.419331     -0.144802     -0.217125   \n",
      "46040 -1.140992  0.055338       1.136500     -0.144802     -0.217125   \n",
      "25336  1.120047 -1.536231      -0.419331     -0.144802     -0.217125   \n",
      "2380  -1.140992 -0.387420      -0.030373     -0.144802     -0.217125   \n",
      "\n",
      "       hours-per-week  \n",
      "9148        -0.034087  \n",
      "30592        0.934324  \n",
      "46040        0.369418  \n",
      "25336       -0.034087  \n",
      "2380        -0.437591  \n",
      "9148     0\n",
      "30592    0\n",
      "46040    0\n",
      "25336    1\n",
      "2380     0\n",
      "Name: high-income->=50k, dtype: int64\n",
      "\n",
      "0.8090246499058226\n",
      "0.8082057161575629\n"
     ]
    }
   ],
   "source": [
    "from pandas import read_csv\n",
    "adultData = read_csv('adult-num-full.csv')\n",
    "print(\"Our full dataset:\")\n",
    "print(adultData.head())\n",
    "print()\n",
    "\n",
    "adultData.iloc[:,0:-1] = adultData.iloc[:,0:-1].apply(lambda x: (x-x.mean())/ x.std(), axis=0)\n",
    "\n",
    "train, test = sklearn.model_selection.train_test_split(adultData)\n",
    "print(\"Our dataset, in train and test subsets (and normalized):\")\n",
    "print(train.head())\n",
    "print(test.head())\n",
    "print()\n",
    "\n",
    "train_y = train[\"high-income->=50k\"]\n",
    "train_X = train.drop(\"high-income->=50k\",1)\n",
    "test_y = test[\"high-income->=50k\"]\n",
    "test_X = test.drop(\"high-income->=50k\",1)\n",
    "print(\"Our subsets divided down so we can work with the features (X) and outputs (y) separately:\")\n",
    "print(train_X.head())\n",
    "print(train_y.head())\n",
    "print()\n",
    "\n",
    "classifier = sklearn.neighbors.KNeighborsClassifier()\n",
    "classifier.fit(train_X, train_y)\n",
    "print(classifier.score(test_X, test_y))\n",
    "\n",
    "train_X2 = train_X.drop(\"fnlwgt\",1)\n",
    "test_X2 = test_X.drop(\"fnlwgt\",1)\n",
    "classifier2 = sklearn.neighbors.KNeighborsClassifier()\n",
    "classifier2.fit(train_X2, train_y)\n",
    "print(classifier2.score(test_X2, test_y))\n",
    "\n"
   ]
  },
  {
   "cell_type": "code",
   "execution_count": null,
   "metadata": {},
   "outputs": [],
   "source": []
  },
  {
   "cell_type": "code",
   "execution_count": null,
   "metadata": {},
   "outputs": [],
   "source": []
  }
 ],
 "metadata": {
  "kernelspec": {
   "display_name": "Python 3",
   "language": "python",
   "name": "python3"
  },
  "language_info": {
   "codemirror_mode": {
    "name": "ipython",
    "version": 3
   },
   "file_extension": ".py",
   "mimetype": "text/x-python",
   "name": "python",
   "nbconvert_exporter": "python",
   "pygments_lexer": "ipython3",
   "version": "3.8.8"
  }
 },
 "nbformat": 4,
 "nbformat_minor": 2
}
