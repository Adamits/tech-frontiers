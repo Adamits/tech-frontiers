{
 "cells": [
  {
   "cell_type": "code",
   "execution_count": 2,
   "metadata": {},
   "outputs": [],
   "source": []
  },
  {
   "cell_type": "code",
   "execution_count": 19,
   "metadata": {},
   "outputs": [
    {
     "name": "stdout",
     "output_type": "stream",
     "text": [
      "0.6666666666666666\n"
     ]
    }
   ],
   "source": [
    "### TECH FRONTIERS WORKSHOP\n",
    "# Exercise 1.1 - K-Nearest Neighbors\n",
    "# Some content adapted from https://scikit-learn.org/stable/modules/generated/sklearn.neighbors.KNeighborsClassifier.html\n",
    "\n",
    "###YOUR_NAME_HERE\n",
    "\n",
    "from sklearn.neighbors import KNeighborsClassifier\n",
    "\n",
    "#Set up your \"features\" for each sample\n",
    "train_X = [[0,2], [1,4], [2,0], [2,5], [3,2], [4,1], [4,4], [5,2], [5,5], [6,0]]\n",
    "#Set up your \"outcomes\" for each sample\n",
    "train_y = [0, 1, 1, 1, 0, 1, 1, 0, 0, 1]\n",
    "#set up features for our test set\n",
    "test_X = [[0,3], [2, 4], [4,2]]\n",
    "#set up ground truth outcomes for our test set\n",
    "test_y = [0, 1, 0]\n",
    "#Set up the parameters of your model\n",
    "myModel = KNeighborsClassifier(n_neighbors=3)\n",
    "#\"Fit\" your model to the data you have\n",
    "myModel.fit(train_X, train_y)\n",
    "#Use your model to predict one or more points that you care about\n",
    "print(myModel.score(test_X, test_y))\n",
    "\n"
   ]
  },
  {
   "cell_type": "code",
   "execution_count": 1,
   "metadata": {},
   "outputs": [],
   "source": [
    "\n",
    "# Import data from file 'adult-num-full.csv'\n",
    "\n",
    "# Set up train / test split, using \"high-income->=50k\" as the Outcome variable\n",
    "\n",
    "# Create, fit, and score a K Nearest Neighbors Classifier:\n",
    "    # sklearn.neighbors.KNeighborsClassifier()\n",
    "\n",
    "# BONUS 0: Find Baseline estimate for most common outcome\n",
    "    \n",
    "# BONUS 1: Normalize values before completing train / test split\n",
    "\n",
    "# BONUS 2: Compare results from original classifier to one without fnlwgt\n",
    "\n",
    "\n"
   ]
  },
  {
   "cell_type": "code",
   "execution_count": null,
   "metadata": {},
   "outputs": [],
   "source": []
  },
  {
   "cell_type": "code",
   "execution_count": null,
   "metadata": {},
   "outputs": [],
   "source": []
  }
 ],
 "metadata": {
  "kernelspec": {
   "display_name": "Python 3",
   "language": "python",
   "name": "python3"
  },
  "language_info": {
   "codemirror_mode": {
    "name": "ipython",
    "version": 3
   },
   "file_extension": ".py",
   "mimetype": "text/x-python",
   "name": "python",
   "nbconvert_exporter": "python",
   "pygments_lexer": "ipython3",
   "version": "3.8.8"
  }
 },
 "nbformat": 4,
 "nbformat_minor": 2
}
