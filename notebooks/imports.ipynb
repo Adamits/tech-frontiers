{
 "cells": [
  {
   "cell_type": "code",
   "execution_count": 2,
   "metadata": {},
   "outputs": [],
   "source": [
    "import numpy\n",
    "import sklearn\n",
    "import torch\n",
    "import pandas\n",
    "import matplotlib\n",
    "import scipy\n",
    "import seaborn\n",
    "import jupyter\n",
    "import plotly\n",
    "import nbformat\n",
    "import hmmlearn\n",
    "\n",
    "print(\"Success!\")"
   ]
  }
 ],
 "metadata": {
  "kernelspec": {
   "display_name": "tech-frontiers",
   "language": "python",
   "name": "tech-frontiers"
  },
  "language_info": {
   "codemirror_mode": {
    "name": "ipython",
    "version": 3
   },
   "file_extension": ".py",
   "mimetype": "text/x-python",
   "name": "python",
   "nbconvert_exporter": "python",
   "pygments_lexer": "ipython3",
   "version": "3.9.5"
  }
 },
 "nbformat": 4,
 "nbformat_minor": 4
}
